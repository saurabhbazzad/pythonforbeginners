{
 "cells": [
  {
   "cell_type": "code",
   "execution_count": 1,
   "metadata": {},
   "outputs": [],
   "source": [
    "# hello everyone, In this tutorial we will be learning about Data Structures in Python from scratch\n",
    "# But before learning about data structes we need to know what are data structures and why are they used\n",
    "# Data Structures are structures for data where we store data, because the way data is stored has a huge impact on\n",
    "# the performance of programme.\n",
    "# Consider the following analogy from real world- Consider that books are data. Now we may want to store them in different ways\n",
    "# depending on how we intend to use them. For example- On study table we may stack them one over another however, in a library\n",
    "# It may make more sense to arrange them in an alphabetical order or grouping them by their subjects so that we can effictively \n",
    "# place them, find them or search through them while needed.\n",
    "# This is exactly what data structures are for- stroing data so that it can be used most effectively.\n",
    "# the selection of a Data Structure depends on what we want to use it for"
   ]
  },
  {
   "cell_type": "code",
   "execution_count": 2,
   "metadata": {},
   "outputs": [],
   "source": [
    "# There are 4 data structures that Python provides by default. These are- Lists, Tuples, Sets and Dictionaries\n",
    "#In this trial we will be discussing only about Lists and Tuples in brief."
   ]
  },
  {
   "cell_type": "code",
   "execution_count": 3,
   "metadata": {},
   "outputs": [],
   "source": [
    "#Lists\n",
    "# Lists is just a data structure that stores data in form of a list, each data that is stored in a list is called list element.\n",
    "#It is ordered(the elements of a list are always ordered in the same way), changeable(the values of a list element can be \n",
    "#changed) and allows duplicate members (i.e, it allows 2 elements which have same value, and Yes there are some data \n",
    "#structures that don't allow duplicate values)\n",
    "#Lists are also hetrogenous, i.e you can store different types of data in list from numbers to strings to booleans to even list\n",
    "# and even other data structures.\n",
    "\n",
    "#So let's start with creating a list. Trust me its as simple as it sounds"
   ]
  },
  {
   "cell_type": "code",
   "execution_count": 4,
   "metadata": {},
   "outputs": [],
   "source": [
    "a=[1,True,\"The Great Himalayas\",[100,200,300]]"
   ]
  },
  {
   "cell_type": "code",
   "execution_count": 5,
   "metadata": {},
   "outputs": [],
   "source": [
    "#Here we have created a list and stored its values in a. The elements of the list are 1 (A number),True (A boolean), \n",
    "#\"The Great Himalayas\" (A String) and [100,200,300] (A list, inside a list. Yes that's also possible)"
   ]
  },
  {
   "cell_type": "code",
   "execution_count": 6,
   "metadata": {},
   "outputs": [],
   "source": [
    "#Now we will access a member of this list. Suppose we want to access the 3rd element of the list. We can simply do it by"
   ]
  },
  {
   "cell_type": "code",
   "execution_count": 7,
   "metadata": {},
   "outputs": [
    {
     "data": {
      "text/plain": [
       "'The Great Himalayas'"
      ]
     },
     "execution_count": 7,
     "metadata": {},
     "output_type": "execute_result"
    }
   ],
   "source": [
    "a[2]"
   ]
  },
  {
   "cell_type": "code",
   "execution_count": 8,
   "metadata": {},
   "outputs": [],
   "source": [
    "#Great, we just got the 3rd element of the list. Wait. But we Entered the value as 2. Yes, This is because in computing\n",
    "#counting starts from 0. So the first element of list stored in variable a is actually the 0th element of list a.\n",
    "#Its not comfortable but thats how it works. Get used to it."
   ]
  },
  {
   "cell_type": "code",
   "execution_count": 9,
   "metadata": {},
   "outputs": [],
   "source": [
    "# Now since List is an inbuilt Data Structure in Python, Python provides some methods to support some operations on Lists. Lets\n",
    "# get started with them"
   ]
  },
  {
   "cell_type": "code",
   "execution_count": 10,
   "metadata": {},
   "outputs": [
    {
     "name": "stdout",
     "output_type": "stream",
     "text": [
      "[1, True, 'The Great Himalayas', [100, 200, 300], 7]\n"
     ]
    }
   ],
   "source": [
    "#append method is used to add an element to the end of the list.\n",
    "a.append(7)\n",
    "print(a)\n",
    "#Now getting the value of a will return the new list in which 7 is appended at the end of the list."
   ]
  },
  {
   "cell_type": "code",
   "execution_count": 11,
   "metadata": {},
   "outputs": [
    {
     "name": "stdout",
     "output_type": "stream",
     "text": [
      "[1, True, 'The Great Himalayas', [100, 200, 300], 7, False, 12.87, 1234]\n"
     ]
    }
   ],
   "source": [
    "#Extend is another method on List which is very much similar to append method, but can be used to add many items to the list\n",
    "#We supply an iterable to the function, which we will dicuss later, for now consider it as we have to give a list to this method.\n",
    "a.extend([False,12.87,1234])\n",
    "print(a)"
   ]
  },
  {
   "cell_type": "code",
   "execution_count": 12,
   "metadata": {},
   "outputs": [],
   "source": [
    "#So we just added many items to the list a\n",
    "#Next, we have a method reverse, which reverses the order of list"
   ]
  },
  {
   "cell_type": "code",
   "execution_count": 13,
   "metadata": {},
   "outputs": [
    {
     "name": "stdout",
     "output_type": "stream",
     "text": [
      "[1234, 12.87, False, 7, [100, 200, 300], 'The Great Himalayas', True, 1]\n"
     ]
    }
   ],
   "source": [
    "a.reverse()\n",
    "print(a)"
   ]
  },
  {
   "cell_type": "code",
   "execution_count": 14,
   "metadata": {},
   "outputs": [],
   "source": [
    "# pop method removes the element at the position provided to it as an argument and returns its value. If no argument is \n",
    "# provided, it will by default remove the element at the last position."
   ]
  },
  {
   "cell_type": "code",
   "execution_count": 15,
   "metadata": {},
   "outputs": [
    {
     "data": {
      "text/plain": [
       "12.87"
      ]
     },
     "execution_count": 15,
     "metadata": {},
     "output_type": "execute_result"
    }
   ],
   "source": [
    "a.pop(1)\n",
    "#this should remove and return the element at 1st place(2nd actually, because in computing counting starts from 0)"
   ]
  },
  {
   "cell_type": "code",
   "execution_count": 16,
   "metadata": {},
   "outputs": [
    {
     "name": "stdout",
     "output_type": "stream",
     "text": [
      "[]\n"
     ]
    }
   ],
   "source": [
    "#clear method will clear the list, i.e, remove all its elements\n",
    "a.clear()\n",
    "print(a)"
   ]
  },
  {
   "cell_type": "code",
   "execution_count": 17,
   "metadata": {},
   "outputs": [],
   "source": [
    "#There you have it. An empty list"
   ]
  },
  {
   "cell_type": "code",
   "execution_count": 18,
   "metadata": {},
   "outputs": [],
   "source": [
    "#Now we will be beginning with tuples. "
   ]
  },
  {
   "cell_type": "code",
   "execution_count": 19,
   "metadata": {},
   "outputs": [],
   "source": [
    "#Tuples is another data structure provided by python language. It is quite similar to list, it allows duplicate members, it is\n",
    "#ordered too. But it does not allow it members to be changed. That means once you have created a tuple, you cannot modify it. \n",
    "#Tuples also allows hetrogenous values."
   ]
  },
  {
   "cell_type": "code",
   "execution_count": 21,
   "metadata": {},
   "outputs": [
    {
     "name": "stdout",
     "output_type": "stream",
     "text": [
      "(10, 200, False, ('Pacific', 'Ocean'))\n"
     ]
    }
   ],
   "source": [
    "#to create a tuple just enter the values inside the reound branckets.\n",
    "b=(10,200,False,(\"Pacific\",\"Ocean\"))\n",
    "print(b)"
   ]
  },
  {
   "cell_type": "code",
   "execution_count": 22,
   "metadata": {},
   "outputs": [],
   "source": [
    "# we just created a tuple which contained 2 numbers-10,200, a boolean and a tuple. Yes, you can fir tuple inside a tuple.\n",
    "# thats allowed"
   ]
  },
  {
   "cell_type": "code",
   "execution_count": 24,
   "metadata": {},
   "outputs": [
    {
     "name": "stdout",
     "output_type": "stream",
     "text": [
      "200\n"
     ]
    }
   ],
   "source": [
    "#We can also access members of a tuple in a similar fashion as we do in a list\n",
    "print(b[1])"
   ]
  },
  {
   "cell_type": "code",
   "execution_count": 25,
   "metadata": {},
   "outputs": [],
   "source": [
    "#Once you create a tuple, its elements cannot be deleted, they cannot be changes, and elements cannot be added to it. Doing so\n",
    "#would give you an error"
   ]
  },
  {
   "cell_type": "code",
   "execution_count": 26,
   "metadata": {},
   "outputs": [
    {
     "ename": "TypeError",
     "evalue": "'tuple' object does not support item assignment",
     "output_type": "error",
     "traceback": [
      "\u001b[1;31m---------------------------------------------------------------------------\u001b[0m",
      "\u001b[1;31mTypeError\u001b[0m                                 Traceback (most recent call last)",
      "\u001b[1;32m<ipython-input-26-dd11515a650a>\u001b[0m in \u001b[0;36m<module>\u001b[1;34m()\u001b[0m\n\u001b[0;32m      1\u001b[0m \u001b[1;31m#this will result in an error\u001b[0m\u001b[1;33m\u001b[0m\u001b[1;33m\u001b[0m\u001b[0m\n\u001b[1;32m----> 2\u001b[1;33m \u001b[0mb\u001b[0m\u001b[1;33m[\u001b[0m\u001b[1;36m0\u001b[0m\u001b[1;33m]\u001b[0m\u001b[1;33m=\u001b[0m\u001b[1;36m100\u001b[0m\u001b[1;33m\u001b[0m\u001b[0m\n\u001b[0m",
      "\u001b[1;31mTypeError\u001b[0m: 'tuple' object does not support item assignment"
     ]
    }
   ],
   "source": [
    "#this will result in an error\n",
    "b[0]=100"
   ]
  },
  {
   "cell_type": "code",
   "execution_count": 27,
   "metadata": {},
   "outputs": [
    {
     "name": "stdout",
     "output_type": "stream",
     "text": [
      "1\n"
     ]
    }
   ],
   "source": [
    "# Tuple has count and index method. count return the number of times a specified value has occured in the tuple. index returns\n",
    "#index where the item first occurs.\n",
    "#for example- b.index(200) will return the index at which the value 200 occurs for the first time\n",
    "print(b.index(200))"
   ]
  },
  {
   "cell_type": "code",
   "execution_count": 29,
   "metadata": {},
   "outputs": [
    {
     "name": "stdout",
     "output_type": "stream",
     "text": [
      "1\n"
     ]
    }
   ],
   "source": [
    "#It occurs at the first element(start counting from 0)\n",
    "#b.count(10) will return the number of times 10 has occured in this tuple\n",
    "print(b.count(10))"
   ]
  },
  {
   "cell_type": "code",
   "execution_count": null,
   "metadata": {},
   "outputs": [],
   "source": [
    "#It has occured only once."
   ]
  }
 ],
 "metadata": {
  "kernelspec": {
   "display_name": "Python 3",
   "language": "python",
   "name": "python3"
  },
  "language_info": {
   "codemirror_mode": {
    "name": "ipython",
    "version": 3
   },
   "file_extension": ".py",
   "mimetype": "text/x-python",
   "name": "python",
   "nbconvert_exporter": "python",
   "pygments_lexer": "ipython3",
   "version": "3.6.4"
  }
 },
 "nbformat": 4,
 "nbformat_minor": 2
}
